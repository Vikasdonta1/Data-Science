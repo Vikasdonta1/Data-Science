{
  "nbformat": 4,
  "nbformat_minor": 0,
  "metadata": {
    "colab": {
      "provenance": [],
      "collapsed_sections": [],
      "authorship_tag": "ABX9TyMmJibotV+BPRdW2OwgUZHi",
      "include_colab_link": true
    },
    "kernelspec": {
      "name": "python3",
      "display_name": "Python 3"
    },
    "language_info": {
      "name": "python"
    }
  },
  "cells": [
    {
      "cell_type": "markdown",
      "metadata": {
        "id": "view-in-github",
        "colab_type": "text"
      },
      "source": [
        "<a href=\"https://colab.research.google.com/github/Vikasdonta1/Data-Science/blob/main/London_Tube_Line.ipynb\" target=\"_parent\"><img src=\"https://colab.research.google.com/assets/colab-badge.svg\" alt=\"Open In Colab\"/></a>"
      ]
    },
    {
      "cell_type": "code",
      "execution_count": 1,
      "metadata": {
        "colab": {
          "base_uri": "https://localhost:8080/",
          "height": 533
        },
        "id": "dc803rzbG6HM",
        "outputId": "e28dd041-6963-41c7-bf58-8f3cc310695f"
      },
      "outputs": [
        {
          "output_type": "execute_result",
          "data": {
            "text/html": [
              "\n",
              "<div id=\"altair-viz-62fa236383514370aa8c6817501115d3\"></div>\n",
              "<script type=\"text/javascript\">\n",
              "  var VEGA_DEBUG = (typeof VEGA_DEBUG == \"undefined\") ? {} : VEGA_DEBUG;\n",
              "  (function(spec, embedOpt){\n",
              "    let outputDiv = document.currentScript.previousElementSibling;\n",
              "    if (outputDiv.id !== \"altair-viz-62fa236383514370aa8c6817501115d3\") {\n",
              "      outputDiv = document.getElementById(\"altair-viz-62fa236383514370aa8c6817501115d3\");\n",
              "    }\n",
              "    const paths = {\n",
              "      \"vega\": \"https://cdn.jsdelivr.net/npm//vega@5?noext\",\n",
              "      \"vega-lib\": \"https://cdn.jsdelivr.net/npm//vega-lib?noext\",\n",
              "      \"vega-lite\": \"https://cdn.jsdelivr.net/npm//vega-lite@4.17.0?noext\",\n",
              "      \"vega-embed\": \"https://cdn.jsdelivr.net/npm//vega-embed@6?noext\",\n",
              "    };\n",
              "\n",
              "    function maybeLoadScript(lib, version) {\n",
              "      var key = `${lib.replace(\"-\", \"\")}_version`;\n",
              "      return (VEGA_DEBUG[key] == version) ?\n",
              "        Promise.resolve(paths[lib]) :\n",
              "        new Promise(function(resolve, reject) {\n",
              "          var s = document.createElement('script');\n",
              "          document.getElementsByTagName(\"head\")[0].appendChild(s);\n",
              "          s.async = true;\n",
              "          s.onload = () => {\n",
              "            VEGA_DEBUG[key] = version;\n",
              "            return resolve(paths[lib]);\n",
              "          };\n",
              "          s.onerror = () => reject(`Error loading script: ${paths[lib]}`);\n",
              "          s.src = paths[lib];\n",
              "        });\n",
              "    }\n",
              "\n",
              "    function showError(err) {\n",
              "      outputDiv.innerHTML = `<div class=\"error\" style=\"color:red;\">${err}</div>`;\n",
              "      throw err;\n",
              "    }\n",
              "\n",
              "    function displayChart(vegaEmbed) {\n",
              "      vegaEmbed(outputDiv, spec, embedOpt)\n",
              "        .catch(err => showError(`Javascript Error: ${err.message}<br>This usually means there's a typo in your chart specification. See the javascript console for the full traceback.`));\n",
              "    }\n",
              "\n",
              "    if(typeof define === \"function\" && define.amd) {\n",
              "      requirejs.config({paths});\n",
              "      require([\"vega-embed\"], displayChart, err => showError(`Error loading script: ${err.message}`));\n",
              "    } else {\n",
              "      maybeLoadScript(\"vega\", \"5\")\n",
              "        .then(() => maybeLoadScript(\"vega-lite\", \"4.17.0\"))\n",
              "        .then(() => maybeLoadScript(\"vega-embed\", \"6\"))\n",
              "        .catch(showError)\n",
              "        .then(() => displayChart(vegaEmbed));\n",
              "    }\n",
              "  })({\"config\": {\"view\": {\"continuousWidth\": 400, \"continuousHeight\": 300}}, \"layer\": [{\"data\": {\"url\": \"https://cdn.jsdelivr.net/npm/vega-datasets@v1.29.0/data/londonBoroughs.json\", \"format\": {\"feature\": \"boroughs\", \"type\": \"topojson\"}}, \"mark\": {\"type\": \"geoshape\", \"stroke\": \"white\", \"strokeWidth\": 2}, \"encoding\": {\"color\": {\"value\": \"#eee\"}}, \"height\": 500, \"width\": 700}, {\"data\": {\"url\": \"https://cdn.jsdelivr.net/npm/vega-datasets@v1.29.0/data/londonCentroids.json\"}, \"mark\": \"text\", \"encoding\": {\"latitude\": {\"field\": \"cy\", \"type\": \"quantitative\"}, \"longitude\": {\"field\": \"cx\", \"type\": \"quantitative\"}, \"opacity\": {\"value\": 0.6}, \"size\": {\"value\": 8}, \"text\": {\"field\": \"bLabel\", \"type\": \"nominal\"}}, \"transform\": [{\"calculate\": \"indexof (datum.name,' ') > 0  ? substring(datum.name,0,indexof(datum.name, ' ')) : datum.name\", \"as\": \"bLabel\"}]}, {\"data\": {\"url\": \"https://cdn.jsdelivr.net/npm/vega-datasets@v1.29.0/data/londonTubeLines.json\", \"format\": {\"feature\": \"line\", \"type\": \"topojson\"}}, \"mark\": {\"type\": \"geoshape\", \"filled\": false, \"strokeWidth\": 2}, \"encoding\": {\"color\": {\"field\": \"id\", \"legend\": {\"offset\": 0, \"orient\": \"bottom-right\", \"title\": null}, \"scale\": {\"domain\": [\"Bakerloo\", \"Central\", \"Circle\", \"District\", \"DLR\", \"Hammersmith & City\", \"Jubilee\", \"Metropolitan\", \"Northern\", \"Piccadilly\", \"Victoria\", \"Waterloo & City\"], \"range\": [\"rgb(137,78,36)\", \"rgb(220,36,30)\", \"rgb(255,206,0)\", \"rgb(1,114,41)\", \"rgb(0,175,173)\", \"rgb(215,153,175)\", \"rgb(106,114,120)\", \"rgb(114,17,84)\", \"rgb(0,0,0)\", \"rgb(0,24,168)\", \"rgb(0,160,226)\", \"rgb(106,187,170)\"]}, \"type\": \"nominal\"}}}], \"$schema\": \"https://vega.github.io/schema/vega-lite/v4.17.0.json\"}, {\"mode\": \"vega-lite\"});\n",
              "</script>"
            ],
            "text/plain": [
              "alt.LayerChart(...)"
            ]
          },
          "metadata": {},
          "execution_count": 1
        }
      ],
      "source": [
        "import altair as alt\n",
        "from vega_datasets import data\n",
        "\n",
        "boroughs = alt.topo_feature(data.londonBoroughs.url, 'boroughs')\n",
        "tubelines = alt.topo_feature(data.londonTubeLines.url, 'line')\n",
        "centroids = data.londonCentroids.url\n",
        "\n",
        "background = alt.Chart(boroughs).mark_geoshape(\n",
        "    stroke='white',\n",
        "    strokeWidth=2\n",
        ").encode(\n",
        "    color=alt.value('#eee'),\n",
        ").properties(\n",
        "    width=700,\n",
        "    height=500\n",
        ")\n",
        "\n",
        "labels = alt.Chart(centroids).mark_text().encode(\n",
        "    longitude='cx:Q',\n",
        "    latitude='cy:Q',\n",
        "    text='bLabel:N',\n",
        "    size=alt.value(8),\n",
        "    opacity=alt.value(0.6)\n",
        ").transform_calculate(\n",
        "    \"bLabel\", \"indexof (datum.name,' ') > 0  ? substring(datum.name,0,indexof(datum.name, ' ')) : datum.name\"\n",
        ")\n",
        "\n",
        "line_scale = alt.Scale(domain=[\"Bakerloo\", \"Central\", \"Circle\", \"District\", \"DLR\",\n",
        "                               \"Hammersmith & City\", \"Jubilee\", \"Metropolitan\", \"Northern\",\n",
        "                               \"Piccadilly\", \"Victoria\", \"Waterloo & City\"],\n",
        "                       range=[\"rgb(137,78,36)\", \"rgb(220,36,30)\", \"rgb(255,206,0)\",\n",
        "                              \"rgb(1,114,41)\", \"rgb(0,175,173)\", \"rgb(215,153,175)\",\n",
        "                              \"rgb(106,114,120)\", \"rgb(114,17,84)\", \"rgb(0,0,0)\",\n",
        "                              \"rgb(0,24,168)\", \"rgb(0,160,226)\", \"rgb(106,187,170)\"])\n",
        "\n",
        "lines = alt.Chart(tubelines).mark_geoshape(\n",
        "    filled=False,\n",
        "    strokeWidth=2\n",
        ").encode(\n",
        "    alt.Color(\n",
        "        'id:N',\n",
        "        legend=alt.Legend(\n",
        "            title=None,\n",
        "            orient='bottom-right',\n",
        "            offset=0\n",
        "        ),\n",
        "        scale=line_scale\n",
        "    )\n",
        ")\n",
        "\n",
        "background + labels + lines"
      ]
    }
  ]
}