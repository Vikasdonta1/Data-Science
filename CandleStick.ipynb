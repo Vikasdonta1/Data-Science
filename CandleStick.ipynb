{
  "nbformat": 4,
  "nbformat_minor": 0,
  "metadata": {
    "colab": {
      "provenance": [],
      "collapsed_sections": []
    },
    "kernelspec": {
      "name": "python3",
      "display_name": "Python 3"
    },
    "language_info": {
      "name": "python"
    }
  },
  "cells": [
    {
      "cell_type": "code",
      "execution_count": 1,
      "metadata": {
        "colab": {
          "base_uri": "https://localhost:8080/",
          "height": 385
        },
        "id": "HHTCF2JPCtmb",
        "outputId": "330ad89d-b585-45a3-afb8-8350346702c1"
      },
      "outputs": [
        {
          "output_type": "execute_result",
          "data": {
            "text/html": [
              "\n",
              "<div id=\"altair-viz-56106ad1d75648daa6906013c73f889b\"></div>\n",
              "<script type=\"text/javascript\">\n",
              "  var VEGA_DEBUG = (typeof VEGA_DEBUG == \"undefined\") ? {} : VEGA_DEBUG;\n",
              "  (function(spec, embedOpt){\n",
              "    let outputDiv = document.currentScript.previousElementSibling;\n",
              "    if (outputDiv.id !== \"altair-viz-56106ad1d75648daa6906013c73f889b\") {\n",
              "      outputDiv = document.getElementById(\"altair-viz-56106ad1d75648daa6906013c73f889b\");\n",
              "    }\n",
              "    const paths = {\n",
              "      \"vega\": \"https://cdn.jsdelivr.net/npm//vega@5?noext\",\n",
              "      \"vega-lib\": \"https://cdn.jsdelivr.net/npm//vega-lib?noext\",\n",
              "      \"vega-lite\": \"https://cdn.jsdelivr.net/npm//vega-lite@4.17.0?noext\",\n",
              "      \"vega-embed\": \"https://cdn.jsdelivr.net/npm//vega-embed@6?noext\",\n",
              "    };\n",
              "\n",
              "    function maybeLoadScript(lib, version) {\n",
              "      var key = `${lib.replace(\"-\", \"\")}_version`;\n",
              "      return (VEGA_DEBUG[key] == version) ?\n",
              "        Promise.resolve(paths[lib]) :\n",
              "        new Promise(function(resolve, reject) {\n",
              "          var s = document.createElement('script');\n",
              "          document.getElementsByTagName(\"head\")[0].appendChild(s);\n",
              "          s.async = true;\n",
              "          s.onload = () => {\n",
              "            VEGA_DEBUG[key] = version;\n",
              "            return resolve(paths[lib]);\n",
              "          };\n",
              "          s.onerror = () => reject(`Error loading script: ${paths[lib]}`);\n",
              "          s.src = paths[lib];\n",
              "        });\n",
              "    }\n",
              "\n",
              "    function showError(err) {\n",
              "      outputDiv.innerHTML = `<div class=\"error\" style=\"color:red;\">${err}</div>`;\n",
              "      throw err;\n",
              "    }\n",
              "\n",
              "    function displayChart(vegaEmbed) {\n",
              "      vegaEmbed(outputDiv, spec, embedOpt)\n",
              "        .catch(err => showError(`Javascript Error: ${err.message}<br>This usually means there's a typo in your chart specification. See the javascript console for the full traceback.`));\n",
              "    }\n",
              "\n",
              "    if(typeof define === \"function\" && define.amd) {\n",
              "      requirejs.config({paths});\n",
              "      require([\"vega-embed\"], displayChart, err => showError(`Error loading script: ${err.message}`));\n",
              "    } else {\n",
              "      maybeLoadScript(\"vega\", \"5\")\n",
              "        .then(() => maybeLoadScript(\"vega-lite\", \"4.17.0\"))\n",
              "        .then(() => maybeLoadScript(\"vega-embed\", \"6\"))\n",
              "        .catch(showError)\n",
              "        .then(() => displayChart(vegaEmbed));\n",
              "    }\n",
              "  })({\"config\": {\"view\": {\"continuousWidth\": 400, \"continuousHeight\": 300}}, \"layer\": [{\"mark\": \"rule\", \"encoding\": {\"color\": {\"condition\": {\"value\": \"#06982d\", \"test\": \"datum.open <= datum.close\"}, \"value\": \"#ae1325\"}, \"x\": {\"axis\": {\"format\": \"%m/%d\", \"labelAngle\": -45, \"title\": \"Date in 2009\"}, \"field\": \"date\", \"type\": \"temporal\"}, \"y\": {\"field\": \"low\", \"scale\": {\"zero\": false}, \"title\": \"Price\", \"type\": \"quantitative\"}, \"y2\": {\"field\": \"high\"}}}, {\"mark\": \"bar\", \"encoding\": {\"color\": {\"condition\": {\"value\": \"#06982d\", \"test\": \"datum.open <= datum.close\"}, \"value\": \"#ae1325\"}, \"x\": {\"axis\": {\"format\": \"%m/%d\", \"labelAngle\": -45, \"title\": \"Date in 2009\"}, \"field\": \"date\", \"type\": \"temporal\"}, \"y\": {\"field\": \"open\", \"type\": \"quantitative\"}, \"y2\": {\"field\": \"close\"}}}], \"data\": {\"name\": \"data-6095c1ec4d89ad64750a63772b69643b\"}, \"$schema\": \"https://vega.github.io/schema/vega-lite/v4.17.0.json\", \"datasets\": {\"data-6095c1ec4d89ad64750a63772b69643b\": [{\"date\": \"2009-06-01T00:00:00\", \"open\": 28.7, \"high\": 30.05, \"low\": 28.45, \"close\": 30.04, \"signal\": \"short\", \"ret\": -4.89396411092985}, {\"date\": \"2009-06-02T00:00:00\", \"open\": 30.04, \"high\": 30.13, \"low\": 28.3, \"close\": 29.63, \"signal\": \"short\", \"ret\": -0.32258064516129503}, {\"date\": \"2009-06-03T00:00:00\", \"open\": 29.62, \"high\": 31.79, \"low\": 29.62, \"close\": 31.02, \"signal\": \"short\", \"ret\": 3.68663594470045}, {\"date\": \"2009-06-04T00:00:00\", \"open\": 31.02, \"high\": 31.02, \"low\": 29.92, \"close\": 30.18, \"signal\": \"short\", \"ret\": 4.51010886469673}, {\"date\": \"2009-06-05T00:00:00\", \"open\": 29.39, \"high\": 30.81, \"low\": 28.85, \"close\": 29.62, \"signal\": \"short\", \"ret\": 6.08424336973478}, {\"date\": \"2009-06-08T00:00:00\", \"open\": 30.84, \"high\": 31.82, \"low\": 26.41, \"close\": 29.77, \"signal\": \"short\", \"ret\": 1.2539184952978}, {\"date\": \"2009-06-09T00:00:00\", \"open\": 29.77, \"high\": 29.77, \"low\": 27.79, \"close\": 28.27, \"signal\": \"short\", \"ret\": -5.02431118314424}, {\"date\": \"2009-06-10T00:00:00\", \"open\": 26.9, \"high\": 29.74, \"low\": 26.9, \"close\": 28.46, \"signal\": \"short\", \"ret\": -5.46623794212217}, {\"date\": \"2009-06-11T00:00:00\", \"open\": 27.36, \"high\": 28.11, \"low\": 26.81, \"close\": 28.11, \"signal\": \"short\", \"ret\": -8.3743842364532}, {\"date\": \"2009-06-12T00:00:00\", \"open\": 28.08, \"high\": 28.5, \"low\": 27.73, \"close\": 28.15, \"signal\": \"short\", \"ret\": -5.52763819095477}, {\"date\": \"2009-06-15T00:00:00\", \"open\": 29.7, \"high\": 31.09, \"low\": 29.64, \"close\": 30.81, \"signal\": \"long\", \"ret\": 3.4920634920635}, {\"date\": \"2009-06-16T00:00:00\", \"open\": 30.81, \"high\": 32.75, \"low\": 30.07, \"close\": 32.68, \"signal\": \"short\", \"ret\": 0.155038759689914}, {\"date\": \"2009-06-17T00:00:00\", \"open\": 31.19, \"high\": 32.77, \"low\": 30.64, \"close\": 31.54, \"signal\": \"short\", \"ret\": 5.82822085889571}, {\"date\": \"2009-06-18T00:00:00\", \"open\": 31.54, \"high\": 31.54, \"low\": 29.6, \"close\": 30.03, \"signal\": \"short\", \"ret\": 8.17610062893082}, {\"date\": \"2009-06-19T00:00:00\", \"open\": 29.16, \"high\": 29.32, \"low\": 27.56, \"close\": 27.99, \"signal\": \"short\", \"ret\": 8.59872611464968}, {\"date\": \"2009-06-22T00:00:00\", \"open\": 30.4, \"high\": 32.05, \"low\": 30.3, \"close\": 31.17, \"signal\": \"short\", \"ret\": 15.4907975460123}, {\"date\": \"2009-06-23T00:00:00\", \"open\": 31.3, \"high\": 31.54, \"low\": 27.83, \"close\": 30.58, \"signal\": \"short\", \"ret\": 11.7370892018779}, {\"date\": \"2009-06-24T00:00:00\", \"open\": 30.58, \"high\": 30.58, \"low\": 28.79, \"close\": 29.05, \"signal\": \"long\", \"ret\": -10.4234527687296}, {\"date\": \"2009-06-25T00:00:00\", \"open\": 29.45, \"high\": 29.56, \"low\": 26.3, \"close\": 26.36, \"signal\": \"long\", \"ret\": 0.0}, {\"date\": \"2009-06-26T00:00:00\", \"open\": 27.09, \"high\": 27.22, \"low\": 25.76, \"close\": 25.93, \"signal\": \"long\", \"ret\": 0.0}, {\"date\": \"2009-06-29T00:00:00\", \"open\": 25.93, \"high\": 27.18, \"low\": 25.29, \"close\": 25.35, \"signal\": \"long\", \"ret\": 5.26315789473684}, {\"date\": \"2009-06-30T00:00:00\", \"open\": 25.36, \"high\": 27.38, \"low\": 25.02, \"close\": 26.35, \"signal\": \"long\", \"ret\": 6.73758865248228}, {\"date\": \"2009-07-01T00:00:00\", \"open\": 25.73, \"high\": 26.31, \"low\": 24.8, \"close\": 26.22, \"signal\": \"long\", \"ret\": 7.83645655877341}, {\"date\": \"2009-07-02T00:00:00\", \"open\": 26.22, \"high\": 28.62, \"low\": 26.22, \"close\": 27.95, \"signal\": \"long\", \"ret\": 2.7642276422764303}, {\"date\": \"2009-07-06T00:00:00\", \"open\": 30.32, \"high\": 30.6, \"low\": 28.99, \"close\": 29.0, \"signal\": \"short\", \"ret\": -2.14521452145214}, {\"date\": \"2009-07-07T00:00:00\", \"open\": 29.0, \"high\": 30.94, \"low\": 28.9, \"close\": 30.85, \"signal\": \"short\", \"ret\": 3.03514376996805}, {\"date\": \"2009-07-08T00:00:00\", \"open\": 30.85, \"high\": 33.05, \"low\": 30.43, \"close\": 31.3, \"signal\": \"short\", \"ret\": 5.68720379146919}, {\"date\": \"2009-07-09T00:00:00\", \"open\": 30.23, \"high\": 30.49, \"low\": 29.28, \"close\": 29.78, \"signal\": \"short\", \"ret\": 8.22784810126583}, {\"date\": \"2009-07-10T00:00:00\", \"open\": 29.78, \"high\": 30.34, \"low\": 28.82, \"close\": 29.02, \"signal\": \"short\", \"ret\": 8.64779874213836}, {\"date\": \"2009-07-13T00:00:00\", \"open\": 28.36, \"high\": 29.24, \"low\": 25.42, \"close\": 26.31, \"signal\": \"short\", \"ret\": 7.32899022801303}, {\"date\": \"2009-07-14T00:00:00\", \"open\": 26.31, \"high\": 26.84, \"low\": 24.99, \"close\": 25.02, \"signal\": \"short\", \"ret\": 7.30897009966778}, {\"date\": \"2009-07-15T00:00:00\", \"open\": 25.05, \"high\": 26.06, \"low\": 23.83, \"close\": 25.89, \"signal\": \"neutral\", \"ret\": 0.0}, {\"date\": \"2009-07-16T00:00:00\", \"open\": 25.96, \"high\": 26.18, \"low\": 24.51, \"close\": 25.42, \"signal\": \"long\", \"ret\": -9.82758620689656}, {\"date\": \"2009-07-17T00:00:00\", \"open\": 25.42, \"high\": 25.55, \"low\": 23.88, \"close\": 24.34, \"signal\": \"long\", \"ret\": -10.8433734939759}, {\"date\": \"2009-07-20T00:00:00\", \"open\": 25.06, \"high\": 25.42, \"low\": 24.26, \"close\": 24.4, \"signal\": \"long\", \"ret\": -7.55711775043936}, {\"date\": \"2009-07-21T00:00:00\", \"open\": 24.28, \"high\": 25.14, \"low\": 23.81, \"close\": 23.87, \"signal\": \"long\", \"ret\": -2.5089605734767}, {\"date\": \"2009-07-22T00:00:00\", \"open\": 24.05, \"high\": 24.14, \"low\": 23.24, \"close\": 23.47, \"signal\": \"long\", \"ret\": 0.915750915750916}, {\"date\": \"2009-07-23T00:00:00\", \"open\": 23.71, \"high\": 24.05, \"low\": 23.21, \"close\": 23.43, \"signal\": \"long\", \"ret\": 2.47148288973383}, {\"date\": \"2009-07-24T00:00:00\", \"open\": 23.87, \"high\": 23.87, \"low\": 23.0, \"close\": 23.09, \"signal\": \"long\", \"ret\": 4.22264875239922}, {\"date\": \"2009-07-27T00:00:00\", \"open\": 24.06, \"high\": 24.86, \"low\": 24.02, \"close\": 24.28, \"signal\": \"long\", \"ret\": -0.189393939393929}, {\"date\": \"2009-07-28T00:00:00\", \"open\": 24.28, \"high\": 25.61, \"low\": 24.28, \"close\": 25.01, \"signal\": \"long\", \"ret\": -4.3795620437956195}, {\"date\": \"2009-07-29T00:00:00\", \"open\": 25.47, \"high\": 26.18, \"low\": 25.41, \"close\": 25.61, \"signal\": \"long\", \"ret\": -4.48504983388705}, {\"date\": \"2009-07-30T00:00:00\", \"open\": 25.4, \"high\": 25.76, \"low\": 24.85, \"close\": 25.4, \"signal\": \"long\", \"ret\": -1.70357751277683}, {\"date\": \"2009-07-31T00:00:00\", \"open\": 25.4, \"high\": 26.22, \"low\": 24.93, \"close\": 25.92, \"signal\": \"short\", \"ret\": 5.06756756756757}]}}, {\"mode\": \"vega-lite\"});\n",
              "</script>"
            ],
            "text/plain": [
              "alt.LayerChart(...)"
            ]
          },
          "metadata": {},
          "execution_count": 1
        }
      ],
      "source": [
        "import altair as alt\n",
        "from vega_datasets import data\n",
        "\n",
        "source = data.ohlc()\n",
        "\n",
        "open_close_color = alt.condition(\"datum.open <= datum.close\",\n",
        "                                 alt.value(\"#06982d\"),\n",
        "                                 alt.value(\"#ae1325\"))\n",
        "\n",
        "base = alt.Chart(source).encode(\n",
        "    alt.X('date:T',\n",
        "          axis=alt.Axis(\n",
        "              format='%m/%d',\n",
        "              labelAngle=-45,\n",
        "              title='Date in 2009'\n",
        "          )\n",
        "    ),\n",
        "    color=open_close_color\n",
        ")\n",
        "\n",
        "rule = base.mark_rule().encode(\n",
        "    alt.Y(\n",
        "        'low:Q',\n",
        "        title='Price',\n",
        "        scale=alt.Scale(zero=False),\n",
        "    ),\n",
        "    alt.Y2('high:Q')\n",
        ")\n",
        "\n",
        "bar = base.mark_bar().encode(\n",
        "    alt.Y('open:Q'),\n",
        "    alt.Y2('close:Q')\n",
        ")\n",
        "\n",
        "rule + bar"
      ]
    }
  ]
}