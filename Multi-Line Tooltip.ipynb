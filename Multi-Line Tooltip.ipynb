{
 "cells":[
  {
   "cell_type":"code",
   "source":[
    "import altair as alt\n",
    "import pandas as pd\n",
    "import numpy as np\n",
    "\n",
    "np.random.seed(42)\n",
    "source = pd.DataFrame(np.cumsum(np.random.randn(100, 3), 0).round(2),\n",
    "                    columns=['A', 'B', 'C'], index=pd.RangeIndex(100, name='x'))\n",
    "source = source.reset_index().melt('x', var_name='category', value_name='y')\n",
    "\n",
    "# Create a selection that chooses the nearest point & selects based on x-value\n",
    "nearest = alt.selection(type='single', nearest=True, on='mouseover',\n",
    "                        fields=['x'], empty='none')\n",
    "\n",
    "# The basic line\n",
    "line = alt.Chart(source).mark_line(interpolate='basis').encode(\n",
    "    x='x:Q',\n",
    "    y='y:Q',\n",
    "    color='category:N'\n",
    ")\n",
    "\n",
    "# Transparent selectors across the chart. This is what tells us\n",
    "# the x-value of the cursor\n",
    "selectors = alt.Chart(source).mark_point().encode(\n",
    "    x='x:Q',\n",
    "    opacity=alt.value(0),\n",
    ").add_selection(\n",
    "    nearest\n",
    ")\n",
    "\n",
    "# Draw points on the line, and highlight based on selection\n",
    "points = line.mark_point().encode(\n",
    "    opacity=alt.condition(nearest, alt.value(1), alt.value(0))\n",
    ")\n",
    "\n",
    "# Draw text labels near the points, and highlight based on selection\n",
    "text = line.mark_text(align='left', dx=5, dy=-5).encode(\n",
    "    text=alt.condition(nearest, 'y:Q', alt.value(' '))\n",
    ")\n",
    "\n",
    "# Draw a rule at the location of the selection\n",
    "rules = alt.Chart(source).mark_rule(color='gray').encode(\n",
    "    x='x:Q',\n",
    ").transform_filter(\n",
    "    nearest\n",
    ")\n",
    "\n",
    "# Put the five layers into a chart and bind the data\n",
    "alt.layer(\n",
    "    line, selectors, points, rules, text\n",
    ").properties(\n",
    "    width=600, height=300\n",
    ")"
   ],
   "execution_count":4,
   "outputs":[
    {
     "data":{
      "text\/html":[
       "\n",
       "<div id=\"altair-viz-f3d922a941864df98d3ffcb4771d6343\"><\/div>\n",
       "<script type=\"text\/javascript\">\n",
       "  var VEGA_DEBUG = (typeof VEGA_DEBUG == \"undefined\") ? {} : VEGA_DEBUG;\n",
       "  (function(spec, embedOpt){\n",
       "    let outputDiv = document.currentScript.previousElementSibling;\n",
       "    if (outputDiv.id !== \"altair-viz-f3d922a941864df98d3ffcb4771d6343\") {\n",
       "      outputDiv = document.getElementById(\"altair-viz-f3d922a941864df98d3ffcb4771d6343\");\n",
       "    }\n",
       "    const paths = {\n",
       "      \"vega\": \"https:\/\/cdn.jsdelivr.net\/npm\/\/vega@5?noext\",\n",
       "      \"vega-lib\": \"https:\/\/cdn.jsdelivr.net\/npm\/\/vega-lib?noext\",\n",
       "      \"vega-lite\": \"https:\/\/cdn.jsdelivr.net\/npm\/\/vega-lite@4.17.0?noext\",\n",
       "      \"vega-embed\": \"https:\/\/cdn.jsdelivr.net\/npm\/\/vega-embed@6?noext\",\n",
       "    };\n",
       "\n",
       "    function maybeLoadScript(lib, version) {\n",
       "      var key = `${lib.replace(\"-\", \"\")}_version`;\n",
       "      return (VEGA_DEBUG[key] == version) ?\n",
       "        Promise.resolve(paths[lib]) :\n",
       "        new Promise(function(resolve, reject) {\n",
       "          var s = document.createElement('script');\n",
       "          document.getElementsByTagName(\"head\")[0].appendChild(s);\n",
       "          s.async = true;\n",
       "          s.onload = () => {\n",
       "            VEGA_DEBUG[key] = version;\n",
       "            return resolve(paths[lib]);\n",
       "          };\n",
       "          s.onerror = () => reject(`Error loading script: ${paths[lib]}`);\n",
       "          s.src = paths[lib];\n",
       "        });\n",
       "    }\n",
       "\n",
       "    function showError(err) {\n",
       "      outputDiv.innerHTML = `<div class=\"error\" style=\"color:red;\">${err}<\/div>`;\n",
       "      throw err;\n",
       "    }\n",
       "\n",
       "    function displayChart(vegaEmbed) {\n",
       "      vegaEmbed(outputDiv, spec, embedOpt)\n",
       "        .catch(err => showError(`Javascript Error: ${err.message}<br>This usually means there's a typo in your chart specification. See the javascript console for the full traceback.`));\n",
       "    }\n",
       "\n",
       "    if(typeof define === \"function\" && define.amd) {\n",
       "      requirejs.config({paths});\n",
       "      require([\"vega-embed\"], displayChart, err => showError(`Error loading script: ${err.message}`));\n",
       "    } else {\n",
       "      maybeLoadScript(\"vega\", \"5\")\n",
       "        .then(() => maybeLoadScript(\"vega-lite\", \"4.17.0\"))\n",
       "        .then(() => maybeLoadScript(\"vega-embed\", \"6\"))\n",
       "        .catch(showError)\n",
       "        .then(() => displayChart(vegaEmbed));\n",
       "    }\n",
       "  })({\"config\": {\"view\": {\"continuousWidth\": 400, \"continuousHeight\": 300}}, \"layer\": [{\"mark\": {\"type\": \"line\", \"interpolate\": \"basis\"}, \"encoding\": {\"color\": {\"field\": \"category\", \"type\": \"nominal\"}, \"x\": {\"field\": \"x\", \"type\": \"quantitative\"}, \"y\": {\"field\": \"y\", \"type\": \"quantitative\"}}}, {\"mark\": \"point\", \"encoding\": {\"opacity\": {\"value\": 0}, \"x\": {\"field\": \"x\", \"type\": \"quantitative\"}}, \"selection\": {\"selector001\": {\"type\": \"single\", \"nearest\": true, \"on\": \"mouseover\", \"fields\": [\"x\"], \"empty\": \"none\"}}}, {\"mark\": \"point\", \"encoding\": {\"color\": {\"field\": \"category\", \"type\": \"nominal\"}, \"opacity\": {\"condition\": {\"value\": 1, \"selection\": \"selector001\"}, \"value\": 0}, \"x\": {\"field\": \"x\", \"type\": \"quantitative\"}, \"y\": {\"field\": \"y\", \"type\": \"quantitative\"}}}, {\"mark\": {\"type\": \"rule\", \"color\": \"gray\"}, \"encoding\": {\"x\": {\"field\": \"x\", \"type\": \"quantitative\"}}, \"transform\": [{\"filter\": {\"selection\": \"selector001\"}}]}, {\"mark\": {\"type\": \"text\", \"align\": \"left\", \"dx\": 5, \"dy\": -5}, \"encoding\": {\"color\": {\"field\": \"category\", \"type\": \"nominal\"}, \"text\": {\"condition\": {\"field\": \"y\", \"type\": \"quantitative\", \"selection\": \"selector001\"}, \"value\": \" \"}, \"x\": {\"field\": \"x\", \"type\": \"quantitative\"}, \"y\": {\"field\": \"y\", \"type\": \"quantitative\"}}}], \"data\": {\"name\": \"data-6721a5d73fc2eb4feb320b5cbb7cae62\"}, \"height\": 300, \"width\": 600, \"$schema\": \"https:\/\/vega.github.io\/schema\/vega-lite\/v4.17.0.json\", \"datasets\": {\"data-6721a5d73fc2eb4feb320b5cbb7cae62\": [{\"x\": 0, \"category\": \"A\", \"y\": 0.5}, {\"x\": 1, \"category\": \"A\", \"y\": 2.02}, {\"x\": 2, \"category\": \"A\", \"y\": 3.6}, {\"x\": 3, \"category\": \"A\", \"y\": 4.14}, {\"x\": 4, \"category\": \"A\", \"y\": 4.38}, {\"x\": 5, \"category\": \"A\", \"y\": 3.82}, {\"x\": 6, \"category\": \"A\", \"y\": 2.91}, {\"x\": 7, \"category\": \"A\", \"y\": 2.69}, {\"x\": 8, \"category\": \"A\", \"y\": 2.14}, {\"x\": 9, \"category\": \"A\", \"y\": 2.52}, {\"x\": 10, \"category\": \"A\", \"y\": 1.92}, {\"x\": 11, \"category\": \"A\", \"y\": 0.86}, {\"x\": 12, \"category\": \"A\", \"y\": 1.07}, {\"x\": 13, \"category\": \"A\", \"y\": 1.27}, {\"x\": 14, \"category\": \"A\", \"y\": 1.15}, {\"x\": 15, \"category\": \"A\", \"y\": 0.43}, {\"x\": 16, \"category\": \"A\", \"y\": 0.77}, {\"x\": 17, \"category\": \"A\", \"y\": 0.39}, {\"x\": 18, \"category\": \"A\", \"y\": 1.42}, {\"x\": 19, \"category\": \"A\", \"y\": 1.11}, {\"x\": 20, \"category\": \"A\", \"y\": 0.63}, {\"x\": 21, \"category\": \"A\", \"y\": -0.57}, {\"x\": 22, \"category\": \"A\", \"y\": -0.64}, {\"x\": 23, \"category\": \"A\", \"y\": -1.28}, {\"x\": 24, \"category\": \"A\", \"y\": -1.32}, {\"x\": 25, \"category\": \"A\", \"y\": -0.5}, {\"x\": 26, \"category\": \"A\", \"y\": -0.4}, {\"x\": 27, \"category\": \"A\", \"y\": -0.05}, {\"x\": 28, \"category\": \"A\", \"y\": -0.86}, {\"x\": 29, \"category\": \"A\", \"y\": -0.53}, {\"x\": 30, \"category\": \"A\", \"y\": -0.43}, {\"x\": 31, \"category\": \"A\", \"y\": -0.76}, {\"x\": 32, \"category\": \"A\", \"y\": -0.46}, {\"x\": 33, \"category\": \"A\", \"y\": -0.7}, {\"x\": 34, \"category\": \"A\", \"y\": -1.04}, {\"x\": 35, \"category\": \"A\", \"y\": -0.64}, {\"x\": 36, \"category\": \"A\", \"y\": -0.38}, {\"x\": 37, \"category\": \"A\", \"y\": -0.4}, {\"x\": 38, \"category\": \"A\", \"y\": -0.6}, {\"x\": 39, \"category\": \"A\", \"y\": -1.77}, {\"x\": 40, \"category\": \"A\", \"y\": -0.97}, {\"x\": 41, \"category\": \"A\", \"y\": -2.38}, {\"x\": 42, \"category\": \"A\", \"y\": -3.37}, {\"x\": 43, \"category\": \"A\", \"y\": -3.87}, {\"x\": 44, \"category\": \"A\", \"y\": -4.93}, {\"x\": 45, \"category\": \"A\", \"y\": -3.38}, {\"x\": 46, \"category\": \"A\", \"y\": -2.57}, {\"x\": 47, \"category\": \"A\", \"y\": -1.26}, {\"x\": 48, \"category\": \"A\", \"y\": -1.0}, {\"x\": 49, \"category\": \"A\", \"y\": -2.32}, {\"x\": 50, \"category\": \"A\", \"y\": -2.07}, {\"x\": 51, \"category\": \"A\", \"y\": -1.84}, {\"x\": 52, \"category\": \"A\", \"y\": 0.03}, {\"x\": 53, \"category\": \"A\", \"y\": 0.68}, {\"x\": 54, \"category\": \"A\", \"y\": 1.84}, {\"x\": 55, \"category\": \"A\", \"y\": 2.25}, {\"x\": 56, \"category\": \"A\", \"y\": 2.01}, {\"x\": 57, \"category\": \"A\", \"y\": 1.19}, {\"x\": 58, \"category\": \"A\", \"y\": 1.47}, {\"x\": 59, \"category\": \"A\", \"y\": 2.92}, {\"x\": 60, \"category\": \"A\", \"y\": 3.55}, {\"x\": 61, \"category\": \"A\", \"y\": 4.03}, {\"x\": 62, \"category\": \"A\", \"y\": 4.5}, {\"x\": 63, \"category\": \"A\", \"y\": 2.99}, {\"x\": 64, \"category\": \"A\", \"y\": 3.2}, {\"x\": 65, \"category\": \"A\", \"y\": 3.59}, {\"x\": 66, \"category\": \"A\", \"y\": 3.65}, {\"x\": 67, \"category\": \"A\", \"y\": 4.21}, {\"x\": 68, \"category\": \"A\", \"y\": 2.83}, {\"x\": 69, \"category\": \"A\", \"y\": 3.34}, {\"x\": 70, \"category\": \"A\", \"y\": 3.92}, {\"x\": 71, \"category\": \"A\", \"y\": 4.57}, {\"x\": 72, \"category\": \"A\", \"y\": 3.79}, {\"x\": 73, \"category\": \"A\", \"y\": 3.88}, {\"x\": 74, \"category\": \"A\", \"y\": 4.56}, {\"x\": 75, \"category\": \"A\", \"y\": 5.65}, {\"x\": 76, \"category\": \"A\", \"y\": 4.94}, {\"x\": 77, \"category\": \"A\", \"y\": 5.15}, {\"x\": 78, \"category\": \"A\", \"y\": 7.3}, {\"x\": 79, \"category\": \"A\", \"y\": 7.48}, {\"x\": 80, \"category\": \"A\", \"y\": 6.69}, {\"x\": 81, \"category\": \"A\", \"y\": 7.56}, {\"x\": 82, \"category\": \"A\", \"y\": 7.08}, {\"x\": 83, \"category\": \"A\", \"y\": 7.49}, {\"x\": 84, \"category\": \"A\", \"y\": 9.61}, {\"x\": 85, \"category\": \"A\", \"y\": 9.12}, {\"x\": 86, \"category\": \"A\", \"y\": 9.57}, {\"x\": 87, \"category\": \"A\", \"y\": 9.51}, {\"x\": 88, \"category\": \"A\", \"y\": 9.26}, {\"x\": 89, \"category\": \"A\", \"y\": 7.83}, {\"x\": 90, \"category\": \"A\", \"y\": 9.27}, {\"x\": 91, \"category\": \"A\", \"y\": 9.28}, {\"x\": 92, \"category\": \"A\", \"y\": 9.48}, {\"x\": 93, \"category\": \"A\", \"y\": 9.09}, {\"x\": 94, \"category\": \"A\", \"y\": 10.68}, {\"x\": 95, \"category\": \"A\", \"y\": 8.72}, {\"x\": 96, \"category\": \"A\", \"y\": 9.01}, {\"x\": 97, \"category\": \"A\", \"y\": 8.51}, {\"x\": 98, \"category\": \"A\", \"y\": 8.87}, {\"x\": 99, \"category\": \"A\", \"y\": 9.18}, {\"x\": 0, \"category\": \"B\", \"y\": -0.14}, {\"x\": 1, \"category\": \"B\", \"y\": -0.37}, {\"x\": 2, \"category\": \"B\", \"y\": 0.4}, {\"x\": 3, \"category\": \"B\", \"y\": -0.07}, {\"x\": 4, \"category\": \"B\", \"y\": -1.98}, {\"x\": 5, \"category\": \"B\", \"y\": -2.99}, {\"x\": 6, \"category\": \"B\", \"y\": -4.41}, {\"x\": 7, \"category\": \"B\", \"y\": -4.34}, {\"x\": 8, \"category\": \"B\", \"y\": -4.23}, {\"x\": 9, \"category\": \"B\", \"y\": -4.83}, {\"x\": 10, \"category\": \"B\", \"y\": -2.98}, {\"x\": 11, \"category\": \"B\", \"y\": -2.15}, {\"x\": 12, \"category\": \"B\", \"y\": -4.11}, {\"x\": 13, \"category\": \"B\", \"y\": -3.38}, {\"x\": 14, \"category\": \"B\", \"y\": -3.68}, {\"x\": 15, \"category\": \"B\", \"y\": -4.14}, {\"x\": 16, \"category\": \"B\", \"y\": -5.9}, {\"x\": 17, \"category\": \"B\", \"y\": -6.58}, {\"x\": 18, \"category\": \"B\", \"y\": -5.65}, {\"x\": 19, \"category\": \"B\", \"y\": -5.31}, {\"x\": 20, \"category\": \"B\", \"y\": -5.5}, {\"x\": 21, \"category\": \"B\", \"y\": -4.69}, {\"x\": 22, \"category\": \"B\", \"y\": -3.68}, {\"x\": 23, \"category\": \"B\", \"y\": -3.32}, {\"x\": 24, \"category\": \"B\", \"y\": -1.76}, {\"x\": 25, \"category\": \"B\", \"y\": -1.67}, {\"x\": 26, \"category\": \"B\", \"y\": -3.66}, {\"x\": 27, \"category\": \"B\", \"y\": -2.18}, {\"x\": 28, \"category\": \"B\", \"y\": -2.68}, {\"x\": 29, \"category\": \"B\", \"y\": -3.21}, {\"x\": 30, \"category\": \"B\", \"y\": -2.24}, {\"x\": 31, \"category\": \"B\", \"y\": -2.64}, {\"x\": 32, \"category\": \"B\", \"y\": -2.37}, {\"x\": 33, \"category\": \"B\", \"y\": -3.79}, {\"x\": 34, \"category\": \"B\", \"y\": -4.59}, {\"x\": 35, \"category\": \"B\", \"y\": -2.71}, {\"x\": 36, \"category\": \"B\", \"y\": -2.78}, {\"x\": 37, \"category\": \"B\", \"y\": -2.72}, {\"x\": 38, \"category\": \"B\", \"y\": -2.42}, {\"x\": 39, \"category\": \"B\", \"y\": -1.28}, {\"x\": 40, \"category\": \"B\", \"y\": -2.19}, {\"x\": 41, \"category\": \"B\", \"y\": -1.6}, {\"x\": 42, \"category\": \"B\", \"y\": -2.16}, {\"x\": 43, \"category\": \"B\", \"y\": -3.72}, {\"x\": 44, \"category\": \"B\", \"y\": -3.24}, {\"x\": 45, \"category\": \"B\", \"y\": -4.03}, {\"x\": 46, \"category\": \"B\", \"y\": -5.26}, {\"x\": 47, \"category\": \"B\", \"y\": -6.86}, {\"x\": 48, \"category\": \"B\", \"y\": -6.08}, {\"x\": 49, \"category\": \"B\", \"y\": -5.56}, {\"x\": 50, \"category\": \"B\", \"y\": -5.21}, {\"x\": 51, \"category\": \"B\", \"y\": -4.92}, {\"x\": 52, \"category\": \"B\", \"y\": -4.45}, {\"x\": 53, \"category\": \"B\", \"y\": -5.42}, {\"x\": 54, \"category\": \"B\", \"y\": -6.24}, {\"x\": 55, \"category\": \"B\", \"y\": -5.42}, {\"x\": 56, \"category\": \"B\", \"y\": -6.17}, {\"x\": 57, \"category\": \"B\", \"y\": -6.25}, {\"x\": 58, \"category\": \"B\", \"y\": -5.42}, {\"x\": 59, \"category\": \"B\", \"y\": -5.69}, {\"x\": 60, \"category\": \"B\", \"y\": -6.55}, {\"x\": 61, \"category\": \"B\", \"y\": -6.77}, {\"x\": 62, \"category\": \"B\", \"y\": -6.84}, {\"x\": 63, \"category\": \"B\", \"y\": -7.29}, {\"x\": 64, \"category\": \"B\", \"y\": -8.53}, {\"x\": 65, \"category\": \"B\", \"y\": -9.42}, {\"x\": 66, \"category\": \"B\", \"y\": -10.56}, {\"x\": 67, \"category\": \"B\", \"y\": -9.48}, {\"x\": 68, \"category\": \"B\", \"y\": -10.42}, {\"x\": 69, \"category\": \"B\", \"y\": -9.9}, {\"x\": 70, \"category\": \"B\", \"y\": -8.76}, {\"x\": 71, \"category\": \"B\", \"y\": -9.08}, {\"x\": 72, \"category\": \"B\", \"y\": -9.32}, {\"x\": 73, \"category\": \"B\", \"y\": -7.0}, {\"x\": 74, \"category\": \"B\", \"y\": -8.61}, {\"x\": 75, \"category\": \"B\", \"y\": -8.55}, {\"x\": 76, \"category\": \"B\", \"y\": -7.87}, {\"x\": 77, \"category\": \"B\", \"y\": -7.83}, {\"x\": 78, \"category\": \"B\", \"y\": -7.19}, {\"x\": 79, \"category\": \"B\", \"y\": -7.85}, {\"x\": 80, \"category\": \"B\", \"y\": -7.97}, {\"x\": 81, \"category\": \"B\", \"y\": -9.17}, {\"x\": 82, \"category\": \"B\", \"y\": -9.82}, {\"x\": 83, \"category\": \"B\", \"y\": -11.08}, {\"x\": 84, \"category\": \"B\", \"y\": -10.05}, {\"x\": 85, \"category\": \"B\", \"y\": -8.78}, {\"x\": 86, \"category\": \"B\", \"y\": -8.01}, {\"x\": 87, \"category\": \"B\", \"y\": -11.25}, {\"x\": 88, \"category\": \"B\", \"y\": -12.5}, {\"x\": 89, \"category\": \"B\", \"y\": -12.94}, {\"x\": 90, \"category\": \"B\", \"y\": -14.37}, {\"x\": 91, \"category\": \"B\", \"y\": -15.35}, {\"x\": 92, \"category\": \"B\", \"y\": -15.96}, {\"x\": 93, \"category\": \"B\", \"y\": -15.84}, {\"x\": 94, \"category\": \"B\", \"y\": -17.08}, {\"x\": 95, \"category\": \"B\", \"y\": -17.23}, {\"x\": 96, \"category\": \"B\", \"y\": -17.85}, {\"x\": 97, \"category\": \"B\", \"y\": -18.44}, {\"x\": 98, \"category\": \"B\", \"y\": -19.14}, {\"x\": 99, \"category\": \"B\", \"y\": -18.32}, {\"x\": 0, \"category\": \"C\", \"y\": 0.65}, {\"x\": 1, \"category\": \"C\", \"y\": 0.41}, {\"x\": 2, \"category\": \"C\", \"y\": -0.06}, {\"x\": 3, \"category\": \"C\", \"y\": -0.52}, {\"x\": 4, \"category\": \"C\", \"y\": -2.25}, {\"x\": 5, \"category\": \"C\", \"y\": -1.93}, {\"x\": 6, \"category\": \"C\", \"y\": -0.47}, {\"x\": 7, \"category\": \"C\", \"y\": -1.89}, {\"x\": 8, \"category\": \"C\", \"y\": -3.04}, {\"x\": 9, \"category\": \"C\", \"y\": -3.33}, {\"x\": 10, \"category\": \"C\", \"y\": -3.35}, {\"x\": 11, \"category\": \"C\", \"y\": -4.57}, {\"x\": 12, \"category\": \"C\", \"y\": -5.9}, {\"x\": 13, \"category\": \"C\", \"y\": -5.73}, {\"x\": 14, \"category\": \"C\", \"y\": -7.2}, {\"x\": 15, \"category\": \"C\", \"y\": -6.15}, {\"x\": 16, \"category\": \"C\", \"y\": -5.82}, {\"x\": 17, \"category\": \"C\", \"y\": -5.21}, {\"x\": 18, \"category\": \"C\", \"y\": -6.05}, {\"x\": 19, \"category\": \"C\", \"y\": -5.07}, {\"x\": 20, \"category\": \"C\", \"y\": -6.18}, {\"x\": 21, \"category\": \"C\", \"y\": -4.82}, {\"x\": 22, \"category\": \"C\", \"y\": -4.46}, {\"x\": 23, \"category\": \"C\", \"y\": -2.93}, {\"x\": 24, \"category\": \"C\", \"y\": -5.54}, {\"x\": 25, \"category\": \"C\", \"y\": -5.84}, {\"x\": 26, \"category\": \"C\", \"y\": -6.06}, {\"x\": 27, \"category\": \"C\", \"y\": -6.58}, {\"x\": 28, \"category\": \"C\", \"y\": -5.67}, {\"x\": 29, \"category\": \"C\", \"y\": -5.15}, {\"x\": 30, \"category\": \"C\", \"y\": -5.86}, {\"x\": 31, \"category\": \"C\", \"y\": -7.32}, {\"x\": 32, \"category\": \"C\", \"y\": -7.31}, {\"x\": 33, \"category\": \"C\", \"y\": -7.73}, {\"x\": 34, \"category\": \"C\", \"y\": -7.9}, {\"x\": 35, \"category\": \"C\", \"y\": -7.72}, {\"x\": 36, \"category\": \"C\", \"y\": -9.64}, {\"x\": 37, \"category\": \"C\", \"y\": -7.18}, {\"x\": 38, \"category\": \"C\", \"y\": -7.21}, {\"x\": 39, \"category\": \"C\", \"y\": -6.46}, {\"x\": 40, \"category\": \"C\", \"y\": -5.06}, {\"x\": 41, \"category\": \"C\", \"y\": -2.87}, {\"x\": 42, \"category\": \"C\", \"y\": -2.77}, {\"x\": 43, \"category\": \"C\", \"y\": -2.7}, {\"x\": 44, \"category\": \"C\", \"y\": -3.62}, {\"x\": 45, \"category\": \"C\", \"y\": -3.94}, {\"x\": 46, \"category\": \"C\", \"y\": -3.71}, {\"x\": 47, \"category\": \"C\", \"y\": -3.53}, {\"x\": 48, \"category\": \"C\", \"y\": -4.76}, {\"x\": 49, \"category\": \"C\", \"y\": -4.47}, {\"x\": 50, \"category\": \"C\", \"y\": -5.15}, {\"x\": 51, \"category\": \"C\", \"y\": -5.86}, {\"x\": 52, \"category\": \"C\", \"y\": -7.05}, {\"x\": 53, \"category\": \"C\", \"y\": -6.27}, {\"x\": 54, \"category\": \"C\", \"y\": -5.3}, {\"x\": 55, \"category\": \"C\", \"y\": -3.41}, {\"x\": 56, \"category\": \"C\", \"y\": -4.29}, {\"x\": 57, \"category\": \"C\", \"y\": -3.95}, {\"x\": 58, \"category\": \"C\", \"y\": -3.94}, {\"x\": 59, \"category\": \"C\", \"y\": -1.22}, {\"x\": 60, \"category\": \"C\", \"y\": -2.29}, {\"x\": 61, \"category\": \"C\", \"y\": -1.58}, {\"x\": 62, \"category\": \"C\", \"y\": -2.42}, {\"x\": 63, \"category\": \"C\", \"y\": -1.57}, {\"x\": 64, \"category\": \"C\", \"y\": -1.39}, {\"x\": 65, \"category\": \"C\", \"y\": -1.24}, {\"x\": 66, \"category\": \"C\", \"y\": -0.88}, {\"x\": 67, \"category\": \"C\", \"y\": 0.17}, {\"x\": 68, \"category\": \"C\", \"y\": 0.69}, {\"x\": 69, \"category\": \"C\", \"y\": 4.54}, {\"x\": 70, \"category\": \"C\", \"y\": 5.49}, {\"x\": 71, \"category\": \"C\", \"y\": 6.25}, {\"x\": 72, \"category\": \"C\", \"y\": 5.77}, {\"x\": 73, \"category\": \"C\", \"y\": 3.9}, {\"x\": 74, \"category\": \"C\", \"y\": 3.43}, {\"x\": 75, \"category\": \"C\", \"y\": 2.35}, {\"x\": 76, \"category\": \"C\", \"y\": 1.62}, {\"x\": 77, \"category\": \"C\", \"y\": 0.97}, {\"x\": 78, \"category\": \"C\", \"y\": -1.06}, {\"x\": 79, \"category\": \"C\", \"y\": -0.21}, {\"x\": 80, \"category\": \"C\", \"y\": 0.3}, {\"x\": 81, \"category\": \"C\", \"y\": -0.04}, {\"x\": 82, \"category\": \"C\", \"y\": 1.73}, {\"x\": 83, \"category\": \"C\", \"y\": 2.65}, {\"x\": 84, \"category\": \"C\", \"y\": 1.13}, {\"x\": 85, \"category\": \"C\", \"y\": 0.42}, {\"x\": 86, \"category\": \"C\", \"y\": -0.51}, {\"x\": 87, \"category\": \"C\", \"y\": -1.53}, {\"x\": 88, \"category\": \"C\", \"y\": 0.1}, {\"x\": 89, \"category\": \"C\", \"y\": 0.23}, {\"x\": 90, \"category\": \"C\", \"y\": 1.4}, {\"x\": 91, \"category\": \"C\", \"y\": 1.86}, {\"x\": 92, \"category\": \"C\", \"y\": 1.93}, {\"x\": 93, \"category\": \"C\", \"y\": 2.59}, {\"x\": 94, \"category\": \"C\", \"y\": 4.72}, {\"x\": 95, \"category\": \"C\", \"y\": 5.31}, {\"x\": 96, \"category\": \"C\", \"y\": 5.1}, {\"x\": 97, \"category\": \"C\", \"y\": 5.95}, {\"x\": 98, \"category\": \"C\", \"y\": 6.85}, {\"x\": 99, \"category\": \"C\", \"y\": 7.48}]}}, {\"mode\": \"vega-lite\"});\n",
       "<\/script>"
      ]
     },
     "metadata":{
      
     },
     "output_type":"display_data"
    }
   ],
   "metadata":{
    "datalore":{
     "node_id":"34bClqBg2khC664pfhsX2F",
     "type":"CODE",
     "hide_input_from_viewers":false,
     "hide_output_from_viewers":false
    }
   }
  },
  {
   "cell_type":"code",
   "source":[
    "!pip install altair"
   ],
   "execution_count":1,
   "outputs":[
    {
     "name":"stdout",
     "text":[
      "Collecting altair\r\n",
      "  Downloading altair-4.2.0-py3-none-any.whl (812 kB)\r\n",
      "\u001b[?25l\r\r     |▍                               | 10 kB 21.7 MB\/s eta 0:00:01\r     |▉                               | 20 kB 27.0 MB\/s eta 0:00:01\r     |█▏                              | 30 kB 32.2 MB\/s eta 0:00:01\r     |█▋                              | 40 kB 35.2 MB\/s eta 0:00:01\r     |██                              | 51 kB 31.7 MB\/s eta 0:00:01\r     |██▍                             | 61 kB 35.1 MB\/s eta 0:00:01\r     |██▉                             | 71 kB 31.2 MB\/s eta 0:00:01\r     |███▎                            | 81 kB 32.5 MB\/s eta 0:00:01\r     |███▋                            | 92 kB 34.4 MB\/s eta 0:00:01\r     |████                            | 102 kB 35.5 MB\/s eta 0:00:01\r     |████▍                           | 112 kB 35.5 MB\/s eta 0:00:01\r     |████▉                           | 122 kB 35.5 MB\/s eta 0:00:01\r     |█████▎                          | 133 kB 35.5 MB\/s eta 0:00:01\r     |█████▋                          | 143 kB 35.5 MB\/s eta 0:00:01\r     |██████                          | 153 kB 35.5 MB\/s eta 0:00:01\r     |██████▌                         | 163 kB 35.5 MB\/s eta 0:00:01\r     |██████▉                         | 174 kB 35.5 MB\/s eta 0:00:01\r     |███████▎                        | 184 kB 35.5 MB\/s eta 0:00:01\r     |███████▋                        | 194 kB 35.5 MB\/s eta 0:00:01\r     |████████                        | 204 kB 35.5 MB\/s eta 0:00:01\r     |████████▌                       | 215 kB 35.5 MB\/s eta 0:00:01\r     |████████▉                       | 225 kB 35.5 MB\/s eta 0:00:01\r     |█████████▎                      | 235 kB 35.5 MB\/s eta 0:00:01\r     |█████████▊                      | 245 kB 35.5 MB\/s eta 0:00:01\r     |██████████                      | 256 kB 35.5 MB\/s eta 0:00:01\r     |██████████▌                     | 266 kB 35.5 MB\/s eta 0:00:01\r     |██████████▉                     | 276 kB 35.5 MB\/s eta 0:00:01\r     |███████████▎                    | 286 kB 35.5 MB\/s eta 0:00:01\r     |███████████▊                    | 296 kB 35.5 MB\/s eta 0:00:01\r     |████████████                    | 307 kB 35.5 MB\/s eta 0:00:01\r     |████████████▌                   | 317 kB 35.5 MB\/s eta 0:00:01\r     |█████████████                   | 327 kB 35.5 MB\/s eta 0:00:01\r     |█████████████▎                  | 337 kB 35.5 MB\/s eta 0:00:01\r     |█████████████▊                  | 348 kB 35.5 MB\/s eta 0:00:01\r     |██████████████                  | 358 kB 35.5 MB\/s eta 0:00:01\r     |██████████████▌                 | 368 kB 35.5 MB\/s eta 0:00:01\r     |███████████████                 | 378 kB 35.5 MB\/s eta 0:00:01\r     |███████████████▎                | 389 kB 35.5 MB\/s eta 0:00:01\r     |███████████████▊                | 399 kB 35.5 MB\/s eta 0:00:01\r     |████████████████▏               | 409 kB 35.5 MB\/s eta 0:00:01\r     |████████████████▌               | 419 kB 35.5 MB\/s eta 0:00:01\r     |█████████████████               | 430 kB 35.5 MB\/s eta 0:00:01\r     |█████████████████▍              | 440 kB 35.5 MB\/s eta 0:00:01\r     |█████████████████▊              | 450 kB 35.5 MB\/s eta 0:00:01\r     |██████████████████▏             | 460 kB 35.5 MB\/s eta 0:00:01\r     |██████████████████▌             | 471 kB 35.5 MB\/s eta 0:00:01\r     |███████████████████             | 481 kB 35.5 MB\/s eta 0:00:01\r     |███████████████████▍            | 491 kB 35.5 MB\/s eta 0:00:01\r     |███████████████████▊            | 501 kB 35.5 MB\/s eta 0:00:01\r     |████████████████████▏           | 512 kB 35.5 MB\/s eta 0:00:01\r     |████████████████████▋           | 522 kB 35.5 MB\/s eta 0:00:01\r     |█████████████████████           | 532 kB 35.5 MB\/s eta 0:00:01\r     |█████████████████████▍          | 542 kB 35.5 MB\/s eta 0:00:01\r     |█████████████████████▊          | 552 kB 35.5 MB\/s eta 0:00:01\r     |██████████████████████▏         | 563 kB 35.5 MB\/s eta 0:00:01\r     |██████████████████████▋         | 573 kB 35.5 MB\/s eta 0:00:01\r     |███████████████████████         | 583 kB 35.5 MB\/s eta 0:00:01\r     |███████████████████████▍        | 593 kB 35.5 MB\/s eta 0:00:01\r     |███████████████████████▉        | 604 kB 35.5 MB\/s eta 0:00:01\r     |████████████████████████▏       | 614 kB 35.5 MB\/s eta 0:00:01\r     |████████████████████████▋       | 624 kB 35.5 MB\/s eta 0:00:01\r     |█████████████████████████       | 634 kB 35.5 MB\/s eta 0:00:01\r     |█████████████████████████▍      | 645 kB 35.5 MB\/s eta 0:00:01\r     |█████████████████████████▉      | 655 kB 35.5 MB\/s eta 0:00:01\r     |██████████████████████████▏     | 665 kB 35.5 MB\/s eta 0:00:01\r     |██████████████████████████▋     | 675 kB 35.5 MB\/s eta 0:00:01\r     |███████████████████████████     | 686 kB 35.5 MB\/s eta 0:00:01\r     |███████████████████████████▍    | 696 kB 35.5 MB\/s eta 0:00:01\r     |███████████████████████████▉    | 706 kB 35.5 MB\/s eta 0:00:01\r     |████████████████████████████▏   | 716 kB 35.5 MB\/s eta 0:00:01\r     |████████████████████████████▋   | 727 kB 35.5 MB\/s eta 0:00:01\r     |█████████████████████████████   | 737 kB 35.5 MB\/s eta 0:00:01\r     |█████████████████████████████▍  | 747 kB 35.5 MB\/s eta 0:00:01\r     |█████████████████████████████▉  | 757 kB 35.5 MB\/s eta 0:00:01\r     |██████████████████████████████▎ | 768 kB 35.5 MB\/s eta 0:00:01\r     |██████████████████████████████▋ | 778 kB 35.5 MB\/s eta 0:00:01\r     |███████████████████████████████ | 788 kB 35.5 MB\/s eta 0:00:01\r     |███████████████████████████████▌| 798 kB 35.5 MB\/s eta 0:00:01\r     |███████████████████████████████▉| 808 kB 35.5 MB\/s eta 0:00:01\r     |████████████████████████████████| 812 kB 35.5 MB\/s            \r\n",
      "\u001b[?25hCollecting entrypoints\r\n",
      "  Downloading entrypoints-0.4-py3-none-any.whl (5.3 kB)\r\n",
      "Collecting toolz\r\n",
      "  Downloading toolz-0.12.0-py3-none-any.whl (55 kB)\r\n",
      "\u001b[?25l\r\r     |█████▉                          | 10 kB 38.0 MB\/s eta 0:00:01\r     |███████████▊                    | 20 kB 43.7 MB\/s eta 0:00:01\r     |█████████████████▋              | 30 kB 51.8 MB\/s eta 0:00:01\r     |███████████████████████▌        | 40 kB 55.6 MB\/s eta 0:00:01\r     |█████████████████████████████▍  | 51 kB 55.5 MB\/s eta 0:00:01\r     |████████████████████████████████| 55 kB 7.3 MB\/s             \r\n",
      "\u001b[?25hRequirement already satisfied: pandas>=0.18 in \/opt\/python\/envs\/default\/lib\/python3.8\/site-packages (from altair) (1.3.5)\r\n",
      "Requirement already satisfied: jinja2 in \/opt\/python\/envs\/default\/lib\/python3.8\/site-packages (from altair) (3.1.2)\r\n",
      "Requirement already satisfied: jsonschema>=3.0 in \/opt\/python\/envs\/default\/lib\/python3.8\/site-packages (from altair) (4.15.0)\r\n",
      "Requirement already satisfied: numpy in \/opt\/python\/envs\/default\/lib\/python3.8\/site-packages (from altair) (1.21.5)\r\n",
      "Requirement already satisfied: pyrsistent!=0.17.0,!=0.17.1,!=0.17.2,>=0.14.0 in \/opt\/python\/envs\/default\/lib\/python3.8\/site-packages (from jsonschema>=3.0->altair) (0.18.1)\r\n",
      "Requirement already satisfied: importlib-resources>=1.4.0 in \/opt\/python\/envs\/default\/lib\/python3.8\/site-packages (from jsonschema>=3.0->altair) (5.9.0)\r\n",
      "Requirement already satisfied: pkgutil-resolve-name>=1.3.10 in \/opt\/python\/envs\/default\/lib\/python3.8\/site-packages (from jsonschema>=3.0->altair) (1.3.10)\r\n",
      "Requirement already satisfied: attrs>=17.4.0 in \/opt\/python\/envs\/default\/lib\/python3.8\/site-packages (from jsonschema>=3.0->altair) (22.1.0)\r\n",
      "Requirement already satisfied: pytz>=2017.3 in \/opt\/python\/envs\/default\/lib\/python3.8\/site-packages (from pandas>=0.18->altair) (2022.2.1)\r\n",
      "Requirement already satisfied: python-dateutil>=2.7.3 in \/opt\/python\/envs\/default\/lib\/python3.8\/site-packages (from pandas>=0.18->altair) (2.8.2)\r\n",
      "Requirement already satisfied: MarkupSafe>=2.0 in \/opt\/python\/envs\/default\/lib\/python3.8\/site-packages (from jinja2->altair) (2.1.1)\r\n",
      "Requirement already satisfied: zipp>=3.1.0 in \/opt\/python\/envs\/default\/lib\/python3.8\/site-packages (from importlib-resources>=1.4.0->jsonschema>=3.0->altair) (3.8.1)\r\n",
      "Requirement already satisfied: six>=1.5 in \/opt\/python\/envs\/default\/lib\/python3.8\/site-packages (from python-dateutil>=2.7.3->pandas>=0.18->altair) (1.16.0)\r\n",
      "Installing collected packages: toolz, entrypoints, altair\r\n",
      "Successfully installed altair-4.2.0 entrypoints-0.4 toolz-0.12.0\r\n",
      "\u001b[33mWARNING: You are using pip version 21.3.1; however, version 22.2.2 is available.\r\n",
      "You should consider upgrading via the '\/opt\/python\/envs\/default\/bin\/python -m pip install --upgrade pip' command.\u001b[0m\r\n"
     ],
     "output_type":"stream"
    }
   ],
   "metadata":{
    "datalore":{
     "node_id":"Xoww5A7tcnhNs7Uuyg6yck",
     "type":"CODE",
     "hide_input_from_viewers":false,
     "hide_output_from_viewers":false
    }
   }
  },
  {
   "cell_type":"code",
   "source":[
    "!pip install pandas"
   ],
   "execution_count":2,
   "outputs":[
    {
     "name":"stdout",
     "text":[
      "Requirement already satisfied: pandas in \/opt\/python\/envs\/default\/lib\/python3.8\/site-packages (1.3.5)\r\n",
      "Requirement already satisfied: python-dateutil>=2.7.3 in \/opt\/python\/envs\/default\/lib\/python3.8\/site-packages (from pandas) (2.8.2)\r\n",
      "Requirement already satisfied: numpy>=1.17.3 in \/opt\/python\/envs\/default\/lib\/python3.8\/site-packages (from pandas) (1.21.5)\r\n",
      "Requirement already satisfied: pytz>=2017.3 in \/opt\/python\/envs\/default\/lib\/python3.8\/site-packages (from pandas) (2022.2.1)\r\n",
      "Requirement already satisfied: six>=1.5 in \/opt\/python\/envs\/default\/lib\/python3.8\/site-packages (from python-dateutil>=2.7.3->pandas) (1.16.0)\r\n",
      "\u001b[33mWARNING: You are using pip version 21.3.1; however, version 22.2.2 is available.\r\n",
      "You should consider upgrading via the '\/opt\/python\/envs\/default\/bin\/python -m pip install --upgrade pip' command.\u001b[0m\r\n"
     ],
     "output_type":"stream"
    }
   ],
   "metadata":{
    "datalore":{
     "node_id":"VVSCEDFZJd5a0rC7s3VEXS",
     "type":"CODE",
     "hide_input_from_viewers":false,
     "hide_output_from_viewers":false
    }
   }
  },
  {
   "cell_type":"code",
   "source":[
    "!pip install numpy"
   ],
   "execution_count":3,
   "outputs":[
    {
     "name":"stdout",
     "text":[
      "Requirement already satisfied: numpy in \/opt\/python\/envs\/default\/lib\/python3.8\/site-packages (1.21.5)\r\n",
      "\u001b[33mWARNING: You are using pip version 21.3.1; however, version 22.2.2 is available.\r\n",
      "You should consider upgrading via the '\/opt\/python\/envs\/default\/bin\/python -m pip install --upgrade pip' command.\u001b[0m\r\n"
     ],
     "output_type":"stream"
    }
   ],
   "metadata":{
    "datalore":{
     "node_id":"6LMweb6GEJlqQsu2PrzNoq",
     "type":"CODE",
     "hide_input_from_viewers":false,
     "hide_output_from_viewers":false
    }
   }
  }
 ],
 "metadata":{
  "kernelspec":{
   "display_name":"Python",
   "language":"python",
   "name":"python"
  },
  "datalore":{
   "version":1,
   "computation_mode":"JUPYTER",
   "package_manager":"pip",
   "base_environment":"default",
   "packages":[
    
   ]
  }
 },
 "nbformat":4,
 "nbformat_minor":4
}